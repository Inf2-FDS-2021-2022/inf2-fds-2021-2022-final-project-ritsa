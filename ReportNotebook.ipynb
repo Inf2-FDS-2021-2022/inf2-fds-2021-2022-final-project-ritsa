{
 "cells": [
  {
   "cell_type": "code",
   "execution_count": 1,
   "id": "modular-investigation",
   "metadata": {},
   "outputs": [],
   "source": [
    "import pandas as pd\n",
    "import re\n",
    "import seaborn as sns\n",
    "import numpy as np\n",
    "import matplotlib.pyplot as plt\n",
    "import datetime as dt\n",
    "import math\n",
    "import scipy.stats\n",
    "from sklearn.linear_model import LogisticRegression\n",
    "from sklearn.neighbors import KNeighborsClassifier\n",
    "from sklearn.preprocessing import StandardScaler\n",
    "from sklearn.pipeline import make_pipeline\n",
    "from sklearn.decomposition import PCA\n",
    "from sklearn.preprocessing import StandardScaler"
   ]
  },
  {
   "cell_type": "code",
   "execution_count": 2,
   "id": "universal-membership",
   "metadata": {},
   "outputs": [],
   "source": [
    "# This will only work is DataCleaningScript is in the same folder as the notebook you're running this chunk in\n",
    "from UpdatedDataCleaningScript import cleanData\n",
    "\n",
    "# This will load you in the cleaned data set\n",
    "# It may take some time - the dataset is large\n",
    "master = cleanData()"
   ]
  },
  {
   "cell_type": "code",
   "execution_count": 3,
   "id": "solved-momentum",
   "metadata": {},
   "outputs": [],
   "source": [
    "# i'd advise keeping a copy you can keep cloning from incase you make any changes to the master data and want the data to reset\n",
    "# without having to run the cleaning process again\n",
    "mastercopy = master.copy(deep = True)"
   ]
  },
  {
   "cell_type": "code",
   "execution_count": 4,
   "id": "lasting-notification",
   "metadata": {},
   "outputs": [],
   "source": [
    "# Following cells present for the purpose of data inspection"
   ]
  },
  {
   "cell_type": "code",
   "execution_count": 5,
   "id": "european-waterproof",
   "metadata": {},
   "outputs": [
    {
     "data": {
      "text/html": [
       "<div>\n",
       "<style scoped>\n",
       "    .dataframe tbody tr th:only-of-type {\n",
       "        vertical-align: middle;\n",
       "    }\n",
       "\n",
       "    .dataframe tbody tr th {\n",
       "        vertical-align: top;\n",
       "    }\n",
       "\n",
       "    .dataframe thead th {\n",
       "        text-align: right;\n",
       "    }\n",
       "</style>\n",
       "<table border=\"1\" class=\"dataframe\">\n",
       "  <thead>\n",
       "    <tr style=\"text-align: right;\">\n",
       "      <th></th>\n",
       "      <th>QuestionId</th>\n",
       "      <th>UserId</th>\n",
       "      <th>AnswerId</th>\n",
       "      <th>IsCorrect</th>\n",
       "      <th>CorrectAnswer</th>\n",
       "      <th>AnswerValue</th>\n",
       "      <th>DateAnswered</th>\n",
       "      <th>Confidence</th>\n",
       "      <th>GroupId</th>\n",
       "      <th>QuizId</th>\n",
       "      <th>...</th>\n",
       "      <th>Age</th>\n",
       "      <th>TimeSlot</th>\n",
       "      <th>WeeHours</th>\n",
       "      <th>EarlyMorning</th>\n",
       "      <th>MidMorning</th>\n",
       "      <th>Afternoon</th>\n",
       "      <th>Evening</th>\n",
       "      <th>Night</th>\n",
       "      <th>Overconfidence</th>\n",
       "      <th>Underconfidence</th>\n",
       "    </tr>\n",
       "  </thead>\n",
       "  <tbody>\n",
       "    <tr>\n",
       "      <th>0</th>\n",
       "      <td>898</td>\n",
       "      <td>2111</td>\n",
       "      <td>280203</td>\n",
       "      <td>1</td>\n",
       "      <td>2</td>\n",
       "      <td>2</td>\n",
       "      <td>2019-12-08 17:47:00</td>\n",
       "      <td>NaN</td>\n",
       "      <td>95</td>\n",
       "      <td>86</td>\n",
       "      <td>...</td>\n",
       "      <td>12.0</td>\n",
       "      <td>Evening</td>\n",
       "      <td>False</td>\n",
       "      <td>False</td>\n",
       "      <td>False</td>\n",
       "      <td>False</td>\n",
       "      <td>True</td>\n",
       "      <td>False</td>\n",
       "      <td>0</td>\n",
       "      <td>0</td>\n",
       "    </tr>\n",
       "    <tr>\n",
       "      <th>1</th>\n",
       "      <td>359</td>\n",
       "      <td>2111</td>\n",
       "      <td>1177798</td>\n",
       "      <td>0</td>\n",
       "      <td>3</td>\n",
       "      <td>4</td>\n",
       "      <td>2020-03-12 15:30:00</td>\n",
       "      <td>NaN</td>\n",
       "      <td>95</td>\n",
       "      <td>115</td>\n",
       "      <td>...</td>\n",
       "      <td>12.0</td>\n",
       "      <td>Afternoon</td>\n",
       "      <td>False</td>\n",
       "      <td>False</td>\n",
       "      <td>False</td>\n",
       "      <td>True</td>\n",
       "      <td>False</td>\n",
       "      <td>False</td>\n",
       "      <td>0</td>\n",
       "      <td>0</td>\n",
       "    </tr>\n",
       "    <tr>\n",
       "      <th>2</th>\n",
       "      <td>920</td>\n",
       "      <td>2111</td>\n",
       "      <td>154427</td>\n",
       "      <td>1</td>\n",
       "      <td>1</td>\n",
       "      <td>1</td>\n",
       "      <td>2020-01-05 19:21:00</td>\n",
       "      <td>NaN</td>\n",
       "      <td>95</td>\n",
       "      <td>59</td>\n",
       "      <td>...</td>\n",
       "      <td>12.0</td>\n",
       "      <td>Evening</td>\n",
       "      <td>False</td>\n",
       "      <td>False</td>\n",
       "      <td>False</td>\n",
       "      <td>False</td>\n",
       "      <td>True</td>\n",
       "      <td>False</td>\n",
       "      <td>0</td>\n",
       "      <td>0</td>\n",
       "    </tr>\n",
       "    <tr>\n",
       "      <th>3</th>\n",
       "      <td>908</td>\n",
       "      <td>2111</td>\n",
       "      <td>362958</td>\n",
       "      <td>1</td>\n",
       "      <td>4</td>\n",
       "      <td>4</td>\n",
       "      <td>2019-11-25 20:19:00</td>\n",
       "      <td>NaN</td>\n",
       "      <td>95</td>\n",
       "      <td>109</td>\n",
       "      <td>...</td>\n",
       "      <td>12.0</td>\n",
       "      <td>Night</td>\n",
       "      <td>False</td>\n",
       "      <td>False</td>\n",
       "      <td>False</td>\n",
       "      <td>False</td>\n",
       "      <td>False</td>\n",
       "      <td>True</td>\n",
       "      <td>0</td>\n",
       "      <td>0</td>\n",
       "    </tr>\n",
       "    <tr>\n",
       "      <th>4</th>\n",
       "      <td>795</td>\n",
       "      <td>2111</td>\n",
       "      <td>566849</td>\n",
       "      <td>1</td>\n",
       "      <td>2</td>\n",
       "      <td>2</td>\n",
       "      <td>2019-11-25 20:21:00</td>\n",
       "      <td>NaN</td>\n",
       "      <td>95</td>\n",
       "      <td>109</td>\n",
       "      <td>...</td>\n",
       "      <td>12.0</td>\n",
       "      <td>Night</td>\n",
       "      <td>False</td>\n",
       "      <td>False</td>\n",
       "      <td>False</td>\n",
       "      <td>False</td>\n",
       "      <td>False</td>\n",
       "      <td>True</td>\n",
       "      <td>0</td>\n",
       "      <td>0</td>\n",
       "    </tr>\n",
       "  </tbody>\n",
       "</table>\n",
       "<p>5 rows × 27 columns</p>\n",
       "</div>"
      ],
      "text/plain": [
       "   QuestionId  UserId  AnswerId  IsCorrect  CorrectAnswer  AnswerValue  \\\n",
       "0         898    2111    280203          1              2            2   \n",
       "1         359    2111   1177798          0              3            4   \n",
       "2         920    2111    154427          1              1            1   \n",
       "3         908    2111    362958          1              4            4   \n",
       "4         795    2111    566849          1              2            2   \n",
       "\n",
       "         DateAnswered  Confidence  GroupId  QuizId  ...   Age   TimeSlot  \\\n",
       "0 2019-12-08 17:47:00         NaN       95      86  ...  12.0    Evening   \n",
       "1 2020-03-12 15:30:00         NaN       95     115  ...  12.0  Afternoon   \n",
       "2 2020-01-05 19:21:00         NaN       95      59  ...  12.0    Evening   \n",
       "3 2019-11-25 20:19:00         NaN       95     109  ...  12.0      Night   \n",
       "4 2019-11-25 20:21:00         NaN       95     109  ...  12.0      Night   \n",
       "\n",
       "  WeeHours  EarlyMorning  MidMorning Afternoon  Evening  Night Overconfidence  \\\n",
       "0    False         False       False     False     True  False              0   \n",
       "1    False         False       False      True    False  False              0   \n",
       "2    False         False       False     False     True  False              0   \n",
       "3    False         False       False     False    False   True              0   \n",
       "4    False         False       False     False    False   True              0   \n",
       "\n",
       "   Underconfidence  \n",
       "0                0  \n",
       "1                0  \n",
       "2                0  \n",
       "3                0  \n",
       "4                0  \n",
       "\n",
       "[5 rows x 27 columns]"
      ]
     },
     "execution_count": 5,
     "metadata": {},
     "output_type": "execute_result"
    }
   ],
   "source": [
    "master.head()"
   ]
  },
  {
   "cell_type": "code",
   "execution_count": 6,
   "id": "commercial-maple",
   "metadata": {},
   "outputs": [
    {
     "data": {
      "text/plain": [
       "Index(['QuestionId', 'UserId', 'AnswerId', 'IsCorrect', 'CorrectAnswer',\n",
       "       'AnswerValue', 'DateAnswered', 'Confidence', 'GroupId', 'QuizId',\n",
       "       'SchemeOfWorkId', 'Gender', 'DateOfBirth', 'PremiumPupil', 'IsAnswered',\n",
       "       'TimeAnswered', 'HourAnswered', 'Age', 'TimeSlot', 'WeeHours',\n",
       "       'EarlyMorning', 'MidMorning', 'Afternoon', 'Evening', 'Night',\n",
       "       'Overconfidence', 'Underconfidence'],\n",
       "      dtype='object')"
      ]
     },
     "execution_count": 6,
     "metadata": {},
     "output_type": "execute_result"
    }
   ],
   "source": [
    "master.columns"
   ]
  },
  {
   "cell_type": "code",
   "execution_count": 7,
   "id": "entire-picking",
   "metadata": {},
   "outputs": [
    {
     "data": {
      "image/png": "[encoded data removed]",
      "text/plain": [
       "<Figure size 432x288 with 1 Axes>"
      ]
     },
     "metadata": {
      "needs_background": "light"
     },
     "output_type": "display_data"
    }
   ],
   "source": [
    "# Plot CorrectnessByConfidence figure\n",
    "masterConf = master[pd.notnull(master['Confidence'])]\n",
    "masterConfAgg = masterConf.groupby('Confidence').agg('mean')\n",
    "sns.barplot(x='Confidence', y = 'IsCorrect', data =  masterConf, color = 'grey')\n",
    "plt.title('Correctness Ratio by Self Reported\\nConfidence Level')\n",
    "plt.ylabel('Correctness Ratio')\n",
    "plt.xlabel('Reported Confidence Level (%)')\n",
    "plt.savefig('CorrectnessByConfidence')"
   ]
  },
  {
   "cell_type": "code",
   "execution_count": 8,
   "id": "specific-nepal",
   "metadata": {},
   "outputs": [
    {
     "data": {
      "text/html": [
       "<div>\n",
       "<style scoped>\n",
       "    .dataframe tbody tr th:only-of-type {\n",
       "        vertical-align: middle;\n",
       "    }\n",
       "\n",
       "    .dataframe tbody tr th {\n",
       "        vertical-align: top;\n",
       "    }\n",
       "\n",
       "    .dataframe thead th {\n",
       "        text-align: right;\n",
       "    }\n",
       "</style>\n",
       "<table border=\"1\" class=\"dataframe\">\n",
       "  <thead>\n",
       "    <tr style=\"text-align: right;\">\n",
       "      <th>Confidence</th>\n",
       "      <th>0.0</th>\n",
       "      <th>25.0</th>\n",
       "      <th>50.0</th>\n",
       "      <th>75.0</th>\n",
       "      <th>100.0</th>\n",
       "      <th>All</th>\n",
       "    </tr>\n",
       "    <tr>\n",
       "      <th>TimeSlot</th>\n",
       "      <th></th>\n",
       "      <th></th>\n",
       "      <th></th>\n",
       "      <th></th>\n",
       "      <th></th>\n",
       "      <th></th>\n",
       "    </tr>\n",
       "  </thead>\n",
       "  <tbody>\n",
       "    <tr>\n",
       "      <th>Afternoon</th>\n",
       "      <td>0.084290</td>\n",
       "      <td>0.047973</td>\n",
       "      <td>0.143896</td>\n",
       "      <td>0.257458</td>\n",
       "      <td>0.466382</td>\n",
       "      <td>1.0</td>\n",
       "    </tr>\n",
       "    <tr>\n",
       "      <th>EarlyMorning</th>\n",
       "      <td>0.084013</td>\n",
       "      <td>0.056688</td>\n",
       "      <td>0.185717</td>\n",
       "      <td>0.258059</td>\n",
       "      <td>0.415524</td>\n",
       "      <td>1.0</td>\n",
       "    </tr>\n",
       "    <tr>\n",
       "      <th>Evening</th>\n",
       "      <td>0.080592</td>\n",
       "      <td>0.048873</td>\n",
       "      <td>0.150715</td>\n",
       "      <td>0.254070</td>\n",
       "      <td>0.465750</td>\n",
       "      <td>1.0</td>\n",
       "    </tr>\n",
       "    <tr>\n",
       "      <th>MidMorning</th>\n",
       "      <td>0.071801</td>\n",
       "      <td>0.049902</td>\n",
       "      <td>0.149809</td>\n",
       "      <td>0.248219</td>\n",
       "      <td>0.480269</td>\n",
       "      <td>1.0</td>\n",
       "    </tr>\n",
       "    <tr>\n",
       "      <th>Night</th>\n",
       "      <td>0.098487</td>\n",
       "      <td>0.056493</td>\n",
       "      <td>0.172151</td>\n",
       "      <td>0.250471</td>\n",
       "      <td>0.422399</td>\n",
       "      <td>1.0</td>\n",
       "    </tr>\n",
       "    <tr>\n",
       "      <th>WeeHours</th>\n",
       "      <td>0.146212</td>\n",
       "      <td>0.072727</td>\n",
       "      <td>0.184091</td>\n",
       "      <td>0.211364</td>\n",
       "      <td>0.385606</td>\n",
       "      <td>1.0</td>\n",
       "    </tr>\n",
       "    <tr>\n",
       "      <th>All</th>\n",
       "      <td>0.082941</td>\n",
       "      <td>0.050241</td>\n",
       "      <td>0.153114</td>\n",
       "      <td>0.253380</td>\n",
       "      <td>0.460324</td>\n",
       "      <td>1.0</td>\n",
       "    </tr>\n",
       "  </tbody>\n",
       "</table>\n",
       "</div>"
      ],
      "text/plain": [
       "Confidence         0.0      25.0      50.0      75.0     100.0  All\n",
       "TimeSlot                                                           \n",
       "Afternoon     0.084290  0.047973  0.143896  0.257458  0.466382  1.0\n",
       "EarlyMorning  0.084013  0.056688  0.185717  0.258059  0.415524  1.0\n",
       "Evening       0.080592  0.048873  0.150715  0.254070  0.465750  1.0\n",
       "MidMorning    0.071801  0.049902  0.149809  0.248219  0.480269  1.0\n",
       "Night         0.098487  0.056493  0.172151  0.250471  0.422399  1.0\n",
       "WeeHours      0.146212  0.072727  0.184091  0.211364  0.385606  1.0\n",
       "All           0.082941  0.050241  0.153114  0.253380  0.460324  1.0"
      ]
     },
     "execution_count": 8,
     "metadata": {},
     "output_type": "execute_result"
    }
   ],
   "source": [
    "ct = pd.crosstab(masterConf['TimeSlot'], masterConf['Confidence'],margins = True)\n",
    "ct.div(ct[\"All\"],axis=0)"
   ]
  },
  {
   "cell_type": "code",
   "execution_count": 9,
   "id": "automated-watts",
   "metadata": {},
   "outputs": [
    {
     "name": "stderr",
     "output_type": "stream",
     "text": [
      "/tmp/ipykernel_101/1591947265.py:4: SettingWithCopyWarning: \n",
      "A value is trying to be set on a copy of a slice from a DataFrame.\n",
      "Try using .loc[row_indexer,col_indexer] = value instead\n",
      "\n",
      "See the caveats in the documentation: https://pandas.pydata.org/pandas-docs/stable/user_guide/indexing.html#returning-a-view-versus-a-copy\n",
      "  masterConf['PremiumPupil'] = masterConf['PremiumPupil'].apply(lambda x: 2 if pd.isnull(x) else x)\n",
      "/tmp/ipykernel_101/1591947265.py:9: SettingWithCopyWarning: \n",
      "A value is trying to be set on a copy of a slice from a DataFrame.\n",
      "Try using .loc[row_indexer,col_indexer] = value instead\n",
      "\n",
      "See the caveats in the documentation: https://pandas.pydata.org/pandas-docs/stable/user_guide/indexing.html#returning-a-view-versus-a-copy\n",
      "  masterConf['Age'] = masterConf['Age'].apply(lambda x: 0 if x < 0 else x)\n"
     ]
    },
    {
     "name": "stdout",
     "output_type": "stream",
     "text": [
      "2.0    166119\n",
      "0.0    139172\n",
      "1.0     41137\n",
      "Name: PremiumPupil, dtype: int64\n",
      "0.0     166148\n",
      "11.0    124653\n",
      "12.0     55602\n",
      "13.0        25\n",
      "Name: Age, dtype: int64\n",
      "13    166148\n",
      "10     18878\n",
      "5      17693\n",
      "8      17514\n",
      "3      16784\n",
      "9      15200\n",
      "1      14995\n",
      "12     14900\n",
      "4      14173\n",
      "11     13654\n",
      "7      13535\n",
      "6      12118\n",
      "2      10836\n",
      "Name: Month, dtype: int64\n"
     ]
    },
    {
     "name": "stderr",
     "output_type": "stream",
     "text": [
      "/tmp/ipykernel_101/1591947265.py:14: SettingWithCopyWarning: \n",
      "A value is trying to be set on a copy of a slice from a DataFrame.\n",
      "Try using .loc[row_indexer,col_indexer] = value instead\n",
      "\n",
      "See the caveats in the documentation: https://pandas.pydata.org/pandas-docs/stable/user_guide/indexing.html#returning-a-view-versus-a-copy\n",
      "  masterConf['Month'] = masterConf['DateOfBirth'].apply(lambda x: x.month if x.year < 2020 else 13)\n"
     ]
    }
   ],
   "source": [
    "# Value counts for use in table 1\n",
    "\n",
    "# Premium pupil:\n",
    "masterConf['PremiumPupil'] = masterConf['PremiumPupil'].apply(lambda x: 2 if pd.isnull(x) else x)\n",
    "ct = pd.crosstab(masterConf['PremiumPupil'], masterConf['Confidence'],margins = True)\n",
    "ct.div(ct[\"All\"],axis=0)\n",
    "print(masterConf['PremiumPupil'].value_counts())\n",
    "# Age:\n",
    "masterConf['Age'] = masterConf['Age'].apply(lambda x: 0 if x < 0 else x)\n",
    "ct = pd.crosstab(masterConf['Age'], masterConf['Confidence'],margins = True)\n",
    "ct.div(ct[\"All\"],axis=0)\n",
    "print(masterConf['Age'].value_counts())\n",
    "# Month of Birth:\n",
    "masterConf['Month'] = masterConf['DateOfBirth'].apply(lambda x: x.month if x.year < 2020 else 13)\n",
    "ct = pd.crosstab(masterConf['Month'], masterConf['Confidence'],margins = True)\n",
    "ct.div(ct[\"All\"],axis=0)\n",
    "print(masterConf['Month'].value_counts())"
   ]
  },
  {
   "cell_type": "code",
   "execution_count": 10,
   "id": "variable-hours",
   "metadata": {},
   "outputs": [],
   "source": [
    "# Hypothesis testing"
   ]
  },
  {
   "cell_type": "code",
   "execution_count": 11,
   "id": "extensive-oracle",
   "metadata": {},
   "outputs": [
    {
     "data": {
      "text/html": [
       "<div>\n",
       "<style scoped>\n",
       "    .dataframe tbody tr th:only-of-type {\n",
       "        vertical-align: middle;\n",
       "    }\n",
       "\n",
       "    .dataframe tbody tr th {\n",
       "        vertical-align: top;\n",
       "    }\n",
       "\n",
       "    .dataframe thead tr th {\n",
       "        text-align: left;\n",
       "    }\n",
       "\n",
       "    .dataframe thead tr:last-of-type th {\n",
       "        text-align: right;\n",
       "    }\n",
       "</style>\n",
       "<table border=\"1\" class=\"dataframe\">\n",
       "  <thead>\n",
       "    <tr>\n",
       "      <th></th>\n",
       "      <th colspan=\"2\" halign=\"left\">Confidence</th>\n",
       "    </tr>\n",
       "    <tr>\n",
       "      <th></th>\n",
       "      <th>mean</th>\n",
       "      <th>var</th>\n",
       "    </tr>\n",
       "    <tr>\n",
       "      <th>Month</th>\n",
       "      <th></th>\n",
       "      <th></th>\n",
       "    </tr>\n",
       "  </thead>\n",
       "  <tbody>\n",
       "    <tr>\n",
       "      <th>8.0</th>\n",
       "      <td>68.387538</td>\n",
       "      <td>483.329787</td>\n",
       "    </tr>\n",
       "    <tr>\n",
       "      <th>9.0</th>\n",
       "      <td>68.215320</td>\n",
       "      <td>550.437425</td>\n",
       "    </tr>\n",
       "  </tbody>\n",
       "</table>\n",
       "</div>"
      ],
      "text/plain": [
       "      Confidence            \n",
       "            mean         var\n",
       "Month                       \n",
       "8.0    68.387538  483.329787\n",
       "9.0    68.215320  550.437425"
      ]
     },
     "execution_count": 11,
     "metadata": {},
     "output_type": "execute_result"
    }
   ],
   "source": [
    "testsubset = masterConf[(masterConf['Month'] >= 8)& (masterConf['Month'] <= 9)].groupby('UserId').agg('mean')[['Month','Confidence']]\n",
    "testsubset.Month.value_counts()\n",
    "test = testsubset.groupby('Month').agg(['mean','var'])\n",
    "test"
   ]
  },
  {
   "cell_type": "code",
   "execution_count": 12,
   "id": "better-percentage",
   "metadata": {},
   "outputs": [
    {
     "data": {
      "text/plain": [
       "514.9213942903203"
      ]
     },
     "execution_count": 12,
     "metadata": {},
     "output_type": "execute_result"
    }
   ],
   "source": [
    "augSize = 182\n",
    "septSize = 162\n",
    "\n",
    "#test = masterConf[(masterConf['Month'] >= 8)& (masterConf['Month'] <= 9)].groupby('Month').agg(['mean','var'])\n",
    "poolvar = ((augSize - 1)*test['Confidence']['var'][8] + (septSize - 1)*test['Confidence']['var'][9])/(augSize + septSize - 2)\n",
    "poolvar"
   ]
  },
  {
   "cell_type": "code",
   "execution_count": 13,
   "id": "impaired-release",
   "metadata": {},
   "outputs": [
    {
     "data": {
      "text/plain": [
       "0.06999682071257946"
      ]
     },
     "execution_count": 13,
     "metadata": {},
     "output_type": "execute_result"
    }
   ],
   "source": [
    "t = (test['Confidence']['mean'][8] - test['Confidence']['mean'][9])/(poolvar*math.sqrt(1/augSize + 1/septSize))\n",
    "poolsize = augSize+septSize-2\n",
    "scipy.stats.t.ppf(q=1-.05/2,df=poolsize) # we don;t reject at 5%\n",
    "\n",
    "z = (test['Confidence']['mean'][8] - test['Confidence']['mean'][9])/math.sqrt(test['Confidence']['var'][9]/septSize + test['Confidence']['var'][8]/augSize)\n",
    "z"
   ]
  },
  {
   "cell_type": "code",
   "execution_count": 14,
   "id": "arbitrary-participation",
   "metadata": {},
   "outputs": [
    {
     "data": {
      "text/html": [
       "<div>\n",
       "<style scoped>\n",
       "    .dataframe tbody tr th:only-of-type {\n",
       "        vertical-align: middle;\n",
       "    }\n",
       "\n",
       "    .dataframe tbody tr th {\n",
       "        vertical-align: top;\n",
       "    }\n",
       "\n",
       "    .dataframe thead th {\n",
       "        text-align: right;\n",
       "    }\n",
       "</style>\n",
       "<table border=\"1\" class=\"dataframe\">\n",
       "  <thead>\n",
       "    <tr style=\"text-align: right;\">\n",
       "      <th></th>\n",
       "      <th>Confidence</th>\n",
       "      <th>IsCorrect</th>\n",
       "    </tr>\n",
       "    <tr>\n",
       "      <th>Month</th>\n",
       "      <th></th>\n",
       "      <th></th>\n",
       "    </tr>\n",
       "  </thead>\n",
       "  <tbody>\n",
       "    <tr>\n",
       "      <th>8</th>\n",
       "      <td>73.382722</td>\n",
       "      <td>0.605858</td>\n",
       "    </tr>\n",
       "    <tr>\n",
       "      <th>9</th>\n",
       "      <td>71.314145</td>\n",
       "      <td>0.588158</td>\n",
       "    </tr>\n",
       "  </tbody>\n",
       "</table>\n",
       "</div>"
      ],
      "text/plain": [
       "       Confidence  IsCorrect\n",
       "Month                       \n",
       "8       73.382722   0.605858\n",
       "9       71.314145   0.588158"
      ]
     },
     "execution_count": 14,
     "metadata": {},
     "output_type": "execute_result"
    }
   ],
   "source": [
    "masterConf[(masterConf['Month'] >= 8)& (masterConf['Month'] <= 9)].groupby('Month').agg('mean')[['Confidence','IsCorrect']]"
   ]
  },
  {
   "cell_type": "code",
   "execution_count": 15,
   "id": "elect-issue",
   "metadata": {},
   "outputs": [
    {
     "name": "stdout",
     "output_type": "stream",
     "text": [
      "0.06999682071257946 -0.20172793232681394\n"
     ]
    }
   ],
   "source": [
    "AugSeptUserSubset = masterConf[(masterConf['Month'] >= 8)& (masterConf['Month'] <= 9)].groupby('UserId').agg('mean')[['Month','Confidence','IsCorrect']]\n",
    "analysisStats = AugSeptUserSubset.groupby('Month').agg(['mean','var','count'])[['Confidence','IsCorrect']]\n",
    "\n",
    "zconf = (analysisStats['Confidence']['mean'][8] - analysisStats['Confidence']['mean'][9])/math.sqrt(analysisStats['Confidence']['var'][9]/analysisStats['Confidence']['count'][9] + analysisStats['Confidence']['var'][8]/analysisStats['Confidence']['count'][8])\n",
    "zcorr = (analysisStats['IsCorrect']['mean'][8] - analysisStats['IsCorrect']['mean'][9])/math.sqrt(analysisStats['IsCorrect']['var'][9]/analysisStats['IsCorrect']['count'][9] + analysisStats['IsCorrect']['var'][8]/analysisStats['IsCorrect']['count'][8])\n",
    "print(zconf,zcorr)"
   ]
  },
  {
   "cell_type": "code",
   "execution_count": 16,
   "id": "superior-edmonton",
   "metadata": {},
   "outputs": [
    {
     "data": {
      "text/html": [
       "<div>\n",
       "<style scoped>\n",
       "    .dataframe tbody tr th:only-of-type {\n",
       "        vertical-align: middle;\n",
       "    }\n",
       "\n",
       "    .dataframe tbody tr th {\n",
       "        vertical-align: top;\n",
       "    }\n",
       "\n",
       "    .dataframe thead th {\n",
       "        text-align: right;\n",
       "    }\n",
       "</style>\n",
       "<table border=\"1\" class=\"dataframe\">\n",
       "  <thead>\n",
       "    <tr style=\"text-align: right;\">\n",
       "      <th></th>\n",
       "      <th>Month</th>\n",
       "      <th>Confidence</th>\n",
       "      <th>IsCorrect</th>\n",
       "    </tr>\n",
       "    <tr>\n",
       "      <th>UserId</th>\n",
       "      <th></th>\n",
       "      <th></th>\n",
       "      <th></th>\n",
       "    </tr>\n",
       "  </thead>\n",
       "  <tbody>\n",
       "    <tr>\n",
       "      <th>7</th>\n",
       "      <td>9.0</td>\n",
       "      <td>50.000000</td>\n",
       "      <td>0.800000</td>\n",
       "    </tr>\n",
       "    <tr>\n",
       "      <th>16</th>\n",
       "      <td>9.0</td>\n",
       "      <td>68.965517</td>\n",
       "      <td>0.482759</td>\n",
       "    </tr>\n",
       "    <tr>\n",
       "      <th>40</th>\n",
       "      <td>9.0</td>\n",
       "      <td>0.000000</td>\n",
       "      <td>0.000000</td>\n",
       "    </tr>\n",
       "    <tr>\n",
       "      <th>42</th>\n",
       "      <td>9.0</td>\n",
       "      <td>51.851852</td>\n",
       "      <td>0.444444</td>\n",
       "    </tr>\n",
       "    <tr>\n",
       "      <th>48</th>\n",
       "      <td>9.0</td>\n",
       "      <td>60.483871</td>\n",
       "      <td>0.354839</td>\n",
       "    </tr>\n",
       "  </tbody>\n",
       "</table>\n",
       "</div>"
      ],
      "text/plain": [
       "        Month  Confidence  IsCorrect\n",
       "UserId                              \n",
       "7         9.0   50.000000   0.800000\n",
       "16        9.0   68.965517   0.482759\n",
       "40        9.0    0.000000   0.000000\n",
       "42        9.0   51.851852   0.444444\n",
       "48        9.0   60.483871   0.354839"
      ]
     },
     "execution_count": 16,
     "metadata": {},
     "output_type": "execute_result"
    }
   ],
   "source": [
    "AugSeptUserSubset.head()"
   ]
  },
  {
   "cell_type": "code",
   "execution_count": 17,
   "id": "blocked-depth",
   "metadata": {},
   "outputs": [],
   "source": [
    "# QQ Plots"
   ]
  },
  {
   "cell_type": "code",
   "execution_count": 18,
   "id": "cathedral-tattoo",
   "metadata": {},
   "outputs": [
    {
     "data": {
      "image/png": "[encoded data removed]",
      "text/plain": [
       "<Figure size 432x288 with 1 Axes>"
      ]
     },
     "metadata": {
      "needs_background": "light"
     },
     "output_type": "display_data"
    },
    {
     "data": {
      "image/png": "[encoded data removed]",
      "text/plain": [
       "<Figure size 432x288 with 1 Axes>"
      ]
     },
     "metadata": {
      "needs_background": "light"
     },
     "output_type": "display_data"
    }
   ],
   "source": [
    "import statsmodels.api as sm\n",
    "\n",
    "augCorrect = AugSeptUserSubset[AugSeptUserSubset['Month'] == 8]['IsCorrect']\n",
    "septCorrect = AugSeptUserSubset[AugSeptUserSubset['Month'] == 9]['IsCorrect']\n",
    "zvalsCorrAug = (augCorrect - np.mean(augCorrect))/np.std(augCorrect)\n",
    "zvalsCorrSept = (septCorrect - np.mean(septCorrect))/np.std(septCorrect)\n",
    "\n",
    "sm.qqplot(zvalsCorrAug, line='45')\n",
    "plt.title('Q-Q Plot of Normalized August Correctness Ratio')\n",
    "plt.savefig('QQAugCorr')\n",
    "sm.qqplot(zvalsCorrSept, line='45')\n",
    "plt.title('Q-Q Plot of Normalized September Correctness Ratio')\n",
    "plt.savefig('QQSeptCorr')"
   ]
  },
  {
   "cell_type": "code",
   "execution_count": 19,
   "id": "ordered-style",
   "metadata": {},
   "outputs": [
    {
     "data": {
      "image/png": "[encoded data removed]",
      "text/plain": [
       "<Figure size 432x288 with 1 Axes>"
      ]
     },
     "metadata": {
      "needs_background": "light"
     },
     "output_type": "display_data"
    },
    {
     "data": {
      "image/png": "[encoded data removed]",
      "text/plain": [
       "<Figure size 432x288 with 1 Axes>"
      ]
     },
     "metadata": {
      "needs_background": "light"
     },
     "output_type": "display_data"
    }
   ],
   "source": [
    "augConf = AugSeptUserSubset[AugSeptUserSubset['Month'] == 8]['Confidence']\n",
    "septConf = AugSeptUserSubset[AugSeptUserSubset['Month'] == 9]['Confidence']\n",
    "zvalsConfAug = (augConf - np.mean(augConf))/np.std(augConf)\n",
    "zvalsConfSept = (septConf - np.mean(septConf))/np.std(septConf)\n",
    "\n",
    "sm.qqplot(zvalsConfAug, line='45')\n",
    "plt.title('Q-Q Plot of Normalized August Confidence')\n",
    "plt.savefig('QQAugConf')\n",
    "\n",
    "sm.qqplot(zvalsConfSept, line='45')\n",
    "plt.title('Q-Q Plot of Normalized September Confidence')\n",
    "plt.savefig('QQSeptConf')"
   ]
  },
  {
   "cell_type": "code",
   "execution_count": 20,
   "id": "relative-buffalo",
   "metadata": {},
   "outputs": [],
   "source": [
    "# Further data cleaning in preparation for exended subject analysis"
   ]
  },
  {
   "cell_type": "code",
   "execution_count": 21,
   "id": "temporal-producer",
   "metadata": {
    "scrolled": true
   },
   "outputs": [
    {
     "name": "stderr",
     "output_type": "stream",
     "text": [
      "/tmp/ipykernel_101/1991636678.py:50: SettingWithCopyWarning: \n",
      "A value is trying to be set on a copy of a slice from a DataFrame\n",
      "\n",
      "See the caveats in the documentation: https://pandas.pydata.org/pandas-docs/stable/user_guide/indexing.html#returning-a-view-versus-a-copy\n",
      "  level['Count'][subjectIndex] = level['Count'][subjectIndex] + questionstats['AnswersForQuestion'][i]\n",
      "/tmp/ipykernel_101/1991636678.py:51: SettingWithCopyWarning: \n",
      "A value is trying to be set on a copy of a slice from a DataFrame\n",
      "\n",
      "See the caveats in the documentation: https://pandas.pydata.org/pandas-docs/stable/user_guide/indexing.html#returning-a-view-versus-a-copy\n",
      "  level['TotalConf'][subjectIndex] = level['TotalConf'][subjectIndex] + questionstats['Confidence'][i]\n",
      "/tmp/ipykernel_101/1991636678.py:52: SettingWithCopyWarning: \n",
      "A value is trying to be set on a copy of a slice from a DataFrame\n",
      "\n",
      "See the caveats in the documentation: https://pandas.pydata.org/pandas-docs/stable/user_guide/indexing.html#returning-a-view-versus-a-copy\n",
      "  level['TotalCorrect'][subjectIndex] = level['TotalCorrect'][subjectIndex] + questionstats['IsCorrect'][i]\n"
     ]
    },
    {
     "data": {
      "text/html": [
       "<div>\n",
       "<style scoped>\n",
       "    .dataframe tbody tr th:only-of-type {\n",
       "        vertical-align: middle;\n",
       "    }\n",
       "\n",
       "    .dataframe tbody tr th {\n",
       "        vertical-align: top;\n",
       "    }\n",
       "\n",
       "    .dataframe thead th {\n",
       "        text-align: right;\n",
       "    }\n",
       "</style>\n",
       "<table border=\"1\" class=\"dataframe\">\n",
       "  <thead>\n",
       "    <tr style=\"text-align: right;\">\n",
       "      <th></th>\n",
       "      <th>index</th>\n",
       "      <th>SubjectId</th>\n",
       "      <th>Name</th>\n",
       "      <th>ParentId</th>\n",
       "      <th>Level</th>\n",
       "      <th>Count</th>\n",
       "      <th>TotalConf</th>\n",
       "      <th>TotalCorrect</th>\n",
       "      <th>ConfRatio</th>\n",
       "      <th>CorrectRatio</th>\n",
       "    </tr>\n",
       "  </thead>\n",
       "  <tbody>\n",
       "    <tr>\n",
       "      <th>0</th>\n",
       "      <td>0</td>\n",
       "      <td>3</td>\n",
       "      <td>Maths</td>\n",
       "      <td>NaN</td>\n",
       "      <td>0</td>\n",
       "      <td>346428</td>\n",
       "      <td>25617525</td>\n",
       "      <td>215481</td>\n",
       "      <td>73.947617</td>\n",
       "      <td>0.622008</td>\n",
       "    </tr>\n",
       "    <tr>\n",
       "      <th>1</th>\n",
       "      <td>1</td>\n",
       "      <td>32</td>\n",
       "      <td>Number</td>\n",
       "      <td>3.0</td>\n",
       "      <td>1</td>\n",
       "      <td>208815</td>\n",
       "      <td>15458650</td>\n",
       "      <td>133032</td>\n",
       "      <td>74.030362</td>\n",
       "      <td>0.637081</td>\n",
       "    </tr>\n",
       "    <tr>\n",
       "      <th>2</th>\n",
       "      <td>2</td>\n",
       "      <td>33</td>\n",
       "      <td>BIDMAS</td>\n",
       "      <td>144.0</td>\n",
       "      <td>3</td>\n",
       "      <td>22593</td>\n",
       "      <td>1694425</td>\n",
       "      <td>13767</td>\n",
       "      <td>74.997787</td>\n",
       "      <td>0.609348</td>\n",
       "    </tr>\n",
       "    <tr>\n",
       "      <th>3</th>\n",
       "      <td>3</td>\n",
       "      <td>34</td>\n",
       "      <td>Upper and Lower Bounds</td>\n",
       "      <td>141.0</td>\n",
       "      <td>3</td>\n",
       "      <td>0</td>\n",
       "      <td>0</td>\n",
       "      <td>0</td>\n",
       "      <td>NaN</td>\n",
       "      <td>NaN</td>\n",
       "    </tr>\n",
       "    <tr>\n",
       "      <th>4</th>\n",
       "      <td>4</td>\n",
       "      <td>35</td>\n",
       "      <td>Calculator Use</td>\n",
       "      <td>32.0</td>\n",
       "      <td>2</td>\n",
       "      <td>0</td>\n",
       "      <td>0</td>\n",
       "      <td>0</td>\n",
       "      <td>NaN</td>\n",
       "      <td>NaN</td>\n",
       "    </tr>\n",
       "  </tbody>\n",
       "</table>\n",
       "</div>"
      ],
      "text/plain": [
       "   index  SubjectId                    Name  ParentId  Level   Count  \\\n",
       "0      0          3                   Maths       NaN      0  346428   \n",
       "1      1         32                  Number       3.0      1  208815   \n",
       "2      2         33                  BIDMAS     144.0      3   22593   \n",
       "3      3         34  Upper and Lower Bounds     141.0      3       0   \n",
       "4      4         35          Calculator Use      32.0      2       0   \n",
       "\n",
       "   TotalConf  TotalCorrect  ConfRatio  CorrectRatio  \n",
       "0   25617525        215481  73.947617      0.622008  \n",
       "1   15458650        133032  74.030362      0.637081  \n",
       "2    1694425         13767  74.997787      0.609348  \n",
       "3          0             0        NaN           NaN  \n",
       "4          0             0        NaN           NaN  "
      ]
     },
     "execution_count": 21,
     "metadata": {},
     "output_type": "execute_result"
    }
   ],
   "source": [
    "def clean_array(substrs):\n",
    "    # cleans split string substrings into an array of ints\n",
    "    cleaned_substr = []\n",
    "    for substr in substrs:\n",
    "        substr = re.sub(' ', '', substr)\n",
    "        substr = re.sub('\\[', '', substr)\n",
    "        substr = re.sub('\\]', '', substr)\n",
    "        substr = re.sub(',', '', substr)\n",
    "        if len(substr) == 0:\n",
    "            cleaned_substr.append(1000)\n",
    "        else:\n",
    "            cleaned_substr.append(int(substr))\n",
    "    return cleaned_substr\n",
    "\n",
    "questiondata = pd.read_csv('https://www.inf.ed.ac.uk/teaching/courses/fds/data/project-2021-2022/eedi/question_metadata_task_3_4.csv.gz')\n",
    "subdata = pd.read_csv('https://www.inf.ed.ac.uk/teaching/courses/fds/data/project-2021-2022/eedi/subject_metadata.csv.gz')\n",
    "\n",
    "    # changes the string of subjectIds for each row in question data to an array of ints\n",
    "questiondata['SubjectId'] = questiondata['SubjectId'].apply(lambda subjectlist: clean_array(subjectlist.split(',')))\n",
    "    # from subject data, takes the names, parentIds and Levels of each subjectId in array for each row\n",
    "questiondata['SubjectNames'] = questiondata['SubjectId'].apply(lambda subjects : [subdata[subdata['SubjectId'] == subject]['Name'] for subject in subjects])\n",
    "questiondata['ParentIds'] = questiondata['SubjectId'].apply(lambda subjects : [subdata[subdata['SubjectId'] == subject]['ParentId'] for subject in subjects])\n",
    "questiondata['Levels'] = questiondata['SubjectId'].apply(lambda subjects : [subdata[subdata['SubjectId'] == subject]['Level'] for subject in subjects])\n",
    "\n",
    "mastersub = pd.merge(master, questiondata, on = 'QuestionId')\n",
    "confsub = mastersub[pd.notnull(mastersub['Confidence'])]\n",
    "confsub.head()\n",
    "confsubgroup = confsub.groupby('QuestionId').agg('sum').reset_index()\n",
    "confsubgroup['AnswersForQuestion'] = confsubgroup['IsAnswered']\n",
    "# add here anything else you want to \n",
    "questionstats = confsubgroup[['QuestionId','AnswersForQuestion','IsCorrect','Confidence','Overconfidence']].merge(questiondata, how = 'left')\n",
    "questionstats.drop(['SubjectNames','ParentIds','Levels'],axis = 1, inplace = True)\n",
    "# question stats now has the total sum for correctness, confidence and overconfidence\n",
    "\n",
    "# this is how you would just get level 2 stuff\n",
    "#level2 = subdata[subdata.Level == 2]\n",
    "level = subdata.copy()\n",
    "sl = level.shape[0]\n",
    "level['Count'] = [0] * sl\n",
    "level['TotalConf'] = [0] * sl\n",
    "level['TotalCorrect'] = [0] * sl\n",
    "level = level.reset_index()\n",
    "\n",
    "#print(level.head())\n",
    "\n",
    "for i in range(questionstats.shape[0]):\n",
    "    for levelsub in level.SubjectId.unique():\n",
    "        if levelsub in questionstats['SubjectId'][i]:\n",
    "            subjectIndex = level.index[level['SubjectId'] == levelsub].tolist()[0]\n",
    "            level['Count'][subjectIndex] = level['Count'][subjectIndex] + questionstats['AnswersForQuestion'][i]\n",
    "            level['TotalConf'][subjectIndex] = level['TotalConf'][subjectIndex] + questionstats['Confidence'][i]\n",
    "            level['TotalCorrect'][subjectIndex] = level['TotalCorrect'][subjectIndex] + questionstats['IsCorrect'][i]\n",
    "\n",
    "level['ConfRatio'] = level['TotalConf'] / level['Count']\n",
    "level['CorrectRatio'] = level['TotalCorrect'] / level['Count']\n",
    "\n",
    "level.head()"
   ]
  },
  {
   "cell_type": "code",
   "execution_count": 22,
   "id": "buried-transformation",
   "metadata": {},
   "outputs": [],
   "source": [
    "level3 = level[level['Level'] == 3]\n",
    "level2 = level[level['Level'] == 2]\n",
    "level1 = level[level['Level'] == 1]\n",
    "level0 = level[level['Level'] == 0]"
   ]
  },
  {
   "cell_type": "code",
   "execution_count": 23,
   "id": "healthy-external",
   "metadata": {
    "scrolled": true
   },
   "outputs": [
    {
     "data": {
      "image/png": "[encoded data removed]",
      "text/plain": [
       "<Figure size 432x288 with 1 Axes>"
      ]
     },
     "metadata": {
      "needs_background": "light"
     },
     "output_type": "display_data"
    }
   ],
   "source": [
    "level3 = level[level['Level'] == 3]\n",
    "\n",
    "\n",
    "outliers = level3[level3['CorrectRatio'] < 0.36]\n",
    "maxCor = level3[level3['CorrectRatio'] > 0.9]\n",
    "minCor = level3[level3['ConfRatio'] < 60]\n",
    "\n",
    "fig, ax = plt.subplots()\n",
    "a = plt.scatter(level3.ConfRatio, level3.CorrectRatio, alpha = 0.75, label = 'Level 3')\n",
    "for outlier in [maxCor, minCor, outliers.iloc[0:1], outliers.iloc[1:2]]:\n",
    "    plt.annotate(outlier['Name'].iloc[0], (outlier['ConfRatio'].iloc[0], outlier['CorrectRatio'].iloc[0]))\n",
    "b = plt.scatter(level2.ConfRatio, level2.CorrectRatio, alpha = 0.75, label = 'Level 2')\n",
    "c = plt.scatter(level1.ConfRatio, level1.CorrectRatio, alpha = 0.75, label = 'Level 1')\n",
    "d = plt.scatter(level0.ConfRatio, level0.CorrectRatio, alpha = 0.75, label = 'Level 0')\n",
    "plt.title('Mean Correctness vs Mean Confidence Level by Subject')\n",
    "ax.set_xticks(np.linspace(50,100,11))\n",
    "plt.xlabel('Mean Confidence (%)')\n",
    "plt.ylabel('Mean Correctness Ratio')\n",
    "plt.legend(loc = 'upper left')\n",
    "plt.savefig('CorrConfScatter')\n",
    "plt.show()\n"
   ]
  },
  {
   "cell_type": "code",
   "execution_count": 24,
   "id": "aerial-aurora",
   "metadata": {},
   "outputs": [
    {
     "name": "stdout",
     "output_type": "stream",
     "text": [
      "     index  SubjectId             Name  ParentId  Level  Count  TotalConf  \\\n",
      "135    135        190  Construct Angle      83.0      3    669      59800   \n",
      "\n",
      "     TotalCorrect  ConfRatio  CorrectRatio  \n",
      "135           608  89.387145      0.908819  \n",
      "    index  SubjectId      Name  ParentId  Level  Count  TotalConf  \\\n",
      "60     60         93  Rotation     278.0      3   1169      66525   \n",
      "\n",
      "    TotalCorrect  ConfRatio  CorrectRatio  \n",
      "60           461  56.907613      0.394354  \n",
      "    index  SubjectId         Name  ParentId  Level  Count  TotalConf  \\\n",
      "61     61         94  Enlargement     278.0      3    159      10875   \n",
      "\n",
      "    TotalCorrect  ConfRatio  CorrectRatio  \n",
      "61            34  68.396226      0.213836  \n",
      "     index  SubjectId                                   Name  ParentId  Level  \\\n",
      "216    216        273  Length, Area and Volume Scale Factors     272.0      3   \n",
      "\n",
      "     Count  TotalConf  TotalCorrect  ConfRatio  CorrectRatio  \n",
      "216    363      25825           107  71.143251      0.294766  \n"
     ]
    }
   ],
   "source": [
    "for outlier in [maxCor, minCor, outliers.iloc[0:1], outliers.iloc[1:2]]:\n",
    "    print(outlier)"
   ]
  },
  {
   "cell_type": "code",
   "execution_count": 25,
   "id": "attached-nylon",
   "metadata": {
    "scrolled": true
   },
   "outputs": [
    {
     "data": {
      "text/html": [
       "<div>\n",
       "<style scoped>\n",
       "    .dataframe tbody tr th:only-of-type {\n",
       "        vertical-align: middle;\n",
       "    }\n",
       "\n",
       "    .dataframe tbody tr th {\n",
       "        vertical-align: top;\n",
       "    }\n",
       "\n",
       "    .dataframe thead th {\n",
       "        text-align: right;\n",
       "    }\n",
       "</style>\n",
       "<table border=\"1\" class=\"dataframe\">\n",
       "  <thead>\n",
       "    <tr style=\"text-align: right;\">\n",
       "      <th></th>\n",
       "      <th>index</th>\n",
       "      <th>SubjectId</th>\n",
       "      <th>Name</th>\n",
       "      <th>ParentId</th>\n",
       "      <th>Level</th>\n",
       "      <th>Count</th>\n",
       "      <th>TotalConf</th>\n",
       "      <th>TotalCorrect</th>\n",
       "      <th>ConfRatio</th>\n",
       "      <th>CorrectRatio</th>\n",
       "    </tr>\n",
       "  </thead>\n",
       "  <tbody>\n",
       "    <tr>\n",
       "      <th>0</th>\n",
       "      <td>0</td>\n",
       "      <td>3</td>\n",
       "      <td>Maths</td>\n",
       "      <td>NaN</td>\n",
       "      <td>0</td>\n",
       "      <td>346428</td>\n",
       "      <td>25617525</td>\n",
       "      <td>215481</td>\n",
       "      <td>73.947617</td>\n",
       "      <td>0.622008</td>\n",
       "    </tr>\n",
       "    <tr>\n",
       "      <th>1</th>\n",
       "      <td>1</td>\n",
       "      <td>32</td>\n",
       "      <td>Number</td>\n",
       "      <td>3.0</td>\n",
       "      <td>1</td>\n",
       "      <td>208815</td>\n",
       "      <td>15458650</td>\n",
       "      <td>133032</td>\n",
       "      <td>74.030362</td>\n",
       "      <td>0.637081</td>\n",
       "    </tr>\n",
       "    <tr>\n",
       "      <th>2</th>\n",
       "      <td>2</td>\n",
       "      <td>33</td>\n",
       "      <td>BIDMAS</td>\n",
       "      <td>144.0</td>\n",
       "      <td>3</td>\n",
       "      <td>22593</td>\n",
       "      <td>1694425</td>\n",
       "      <td>13767</td>\n",
       "      <td>74.997787</td>\n",
       "      <td>0.609348</td>\n",
       "    </tr>\n",
       "    <tr>\n",
       "      <th>3</th>\n",
       "      <td>3</td>\n",
       "      <td>34</td>\n",
       "      <td>Upper and Lower Bounds</td>\n",
       "      <td>141.0</td>\n",
       "      <td>3</td>\n",
       "      <td>0</td>\n",
       "      <td>0</td>\n",
       "      <td>0</td>\n",
       "      <td>NaN</td>\n",
       "      <td>NaN</td>\n",
       "    </tr>\n",
       "    <tr>\n",
       "      <th>4</th>\n",
       "      <td>4</td>\n",
       "      <td>35</td>\n",
       "      <td>Calculator Use</td>\n",
       "      <td>32.0</td>\n",
       "      <td>2</td>\n",
       "      <td>0</td>\n",
       "      <td>0</td>\n",
       "      <td>0</td>\n",
       "      <td>NaN</td>\n",
       "      <td>NaN</td>\n",
       "    </tr>\n",
       "  </tbody>\n",
       "</table>\n",
       "</div>"
      ],
      "text/plain": [
       "   index  SubjectId                    Name  ParentId  Level   Count  \\\n",
       "0      0          3                   Maths       NaN      0  346428   \n",
       "1      1         32                  Number       3.0      1  208815   \n",
       "2      2         33                  BIDMAS     144.0      3   22593   \n",
       "3      3         34  Upper and Lower Bounds     141.0      3       0   \n",
       "4      4         35          Calculator Use      32.0      2       0   \n",
       "\n",
       "   TotalConf  TotalCorrect  ConfRatio  CorrectRatio  \n",
       "0   25617525        215481  73.947617      0.622008  \n",
       "1   15458650        133032  74.030362      0.637081  \n",
       "2    1694425         13767  74.997787      0.609348  \n",
       "3          0             0        NaN           NaN  \n",
       "4          0             0        NaN           NaN  "
      ]
     },
     "execution_count": 25,
     "metadata": {},
     "output_type": "execute_result"
    }
   ],
   "source": [
    "level.head()"
   ]
  },
  {
   "cell_type": "code",
   "execution_count": 26,
   "id": "conventional-palestine",
   "metadata": {},
   "outputs": [
    {
     "data": {
      "text/plain": [
       "index  SubjectId  Name                  ParentId  Level  Count   TotalConf  TotalCorrect  ConfRatio  CorrectRatio\n",
       "1      32         Number                3.0       1      208815  15458650   133032        74.030362  0.637081        1\n",
       "17     49         Algebra               3.0       1      57228   4056950    33604         70.890997  0.587195        1\n",
       "39     71         Geometry and Measure  3.0       1      80385   6101925    48845         75.908752  0.607638        1\n",
       "dtype: int64"
      ]
     },
     "execution_count": 26,
     "metadata": {},
     "output_type": "execute_result"
    }
   ],
   "source": [
    "level1[level1.Count > 0].value_counts()"
   ]
  },
  {
   "cell_type": "code",
   "execution_count": 27,
   "id": "excess-highway",
   "metadata": {
    "scrolled": true
   },
   "outputs": [
    {
     "data": {
      "image/png": "[encoded data removed]",
      "text/plain": [
       "<Figure size 432x288 with 1 Axes>"
      ]
     },
     "metadata": {
      "needs_background": "light"
     },
     "output_type": "display_data"
    }
   ],
   "source": [
    "level2 = level[(level['Level'] == 2)&(level['Count'] > 0)]\n",
    "plt.scatter(level2[level2.ParentId == 32].ConfRatio, level2[level2.ParentId == 32].CorrectRatio, alpha = 0.75, label = 'Number')\n",
    "plt.scatter(level2[level2.ParentId == 49].ConfRatio, level2[level2.ParentId == 49].CorrectRatio, alpha = 0.75, label = 'Algebra')\n",
    "plt.scatter(level2[level2.ParentId == 71].ConfRatio, level2[level2.ParentId == 71].CorrectRatio, alpha = 0.75, label = 'Geometry and Measure')\n",
    "plt.legend(title = 'Parent Subject')\n",
    "plt.title(\"Mean Correctness by Mean Confidence Ratio\\nby Level 2 Subject\")\n",
    "plt.xlabel('Mean Confidence (%)')\n",
    "plt.ylabel('Mean Correctness Ratio')\n",
    "plt.savefig('Level2Grouped')"
   ]
  },
  {
   "cell_type": "code",
   "execution_count": 28,
   "id": "sunset-stone",
   "metadata": {},
   "outputs": [
    {
     "data": {
      "text/plain": [
       "F_onewayResult(statistic=10.404654914910186, pvalue=0.0006602813046370438)"
      ]
     },
     "execution_count": 28,
     "metadata": {},
     "output_type": "execute_result"
    }
   ],
   "source": [
    "import scipy.stats as stats\n",
    "stats.f_oneway(level2[level2.ParentId == 32]['ConfRatio'],\n",
    "               level2[level2.ParentId == 49]['ConfRatio'],\n",
    "               level2[level2.ParentId == 71]['ConfRatio'],\n",
    "              )"
   ]
  },
  {
   "cell_type": "code",
   "execution_count": 29,
   "id": "given-population",
   "metadata": {},
   "outputs": [
    {
     "data": {
      "text/html": [
       "<div>\n",
       "<style scoped>\n",
       "    .dataframe tbody tr th:only-of-type {\n",
       "        vertical-align: middle;\n",
       "    }\n",
       "\n",
       "    .dataframe tbody tr th {\n",
       "        vertical-align: top;\n",
       "    }\n",
       "\n",
       "    .dataframe thead th {\n",
       "        text-align: right;\n",
       "    }\n",
       "</style>\n",
       "<table border=\"1\" class=\"dataframe\">\n",
       "  <thead>\n",
       "    <tr style=\"text-align: right;\">\n",
       "      <th></th>\n",
       "      <th>index</th>\n",
       "      <th>SubjectId</th>\n",
       "      <th>Name</th>\n",
       "      <th>Level</th>\n",
       "      <th>Count</th>\n",
       "      <th>TotalConf</th>\n",
       "      <th>TotalCorrect</th>\n",
       "      <th>ConfRatio</th>\n",
       "      <th>CorrectRatio</th>\n",
       "    </tr>\n",
       "    <tr>\n",
       "      <th>ParentId</th>\n",
       "      <th></th>\n",
       "      <th></th>\n",
       "      <th></th>\n",
       "      <th></th>\n",
       "      <th></th>\n",
       "      <th></th>\n",
       "      <th></th>\n",
       "      <th></th>\n",
       "      <th></th>\n",
       "    </tr>\n",
       "  </thead>\n",
       "  <tbody>\n",
       "    <tr>\n",
       "      <th>32.0</th>\n",
       "      <td>7</td>\n",
       "      <td>7</td>\n",
       "      <td>7</td>\n",
       "      <td>7</td>\n",
       "      <td>7</td>\n",
       "      <td>7</td>\n",
       "      <td>7</td>\n",
       "      <td>7</td>\n",
       "      <td>7</td>\n",
       "    </tr>\n",
       "    <tr>\n",
       "      <th>49.0</th>\n",
       "      <td>8</td>\n",
       "      <td>8</td>\n",
       "      <td>8</td>\n",
       "      <td>8</td>\n",
       "      <td>8</td>\n",
       "      <td>8</td>\n",
       "      <td>8</td>\n",
       "      <td>8</td>\n",
       "      <td>8</td>\n",
       "    </tr>\n",
       "    <tr>\n",
       "      <th>71.0</th>\n",
       "      <td>10</td>\n",
       "      <td>10</td>\n",
       "      <td>10</td>\n",
       "      <td>10</td>\n",
       "      <td>10</td>\n",
       "      <td>10</td>\n",
       "      <td>10</td>\n",
       "      <td>10</td>\n",
       "      <td>10</td>\n",
       "    </tr>\n",
       "  </tbody>\n",
       "</table>\n",
       "</div>"
      ],
      "text/plain": [
       "          index  SubjectId  Name  Level  Count  TotalConf  TotalCorrect  \\\n",
       "ParentId                                                                  \n",
       "32.0          7          7     7      7      7          7             7   \n",
       "49.0          8          8     8      8      8          8             8   \n",
       "71.0         10         10    10     10     10         10            10   \n",
       "\n",
       "          ConfRatio  CorrectRatio  \n",
       "ParentId                           \n",
       "32.0              7             7  \n",
       "49.0              8             8  \n",
       "71.0             10            10  "
      ]
     },
     "execution_count": 29,
     "metadata": {},
     "output_type": "execute_result"
    }
   ],
   "source": [
    "level2.groupby('ParentId').agg('count')"
   ]
  },
  {
   "cell_type": "code",
   "execution_count": 30,
   "id": "labeled-spouse",
   "metadata": {},
   "outputs": [
    {
     "name": "stderr",
     "output_type": "stream",
     "text": [
      "/tmp/ipykernel_101/152091452.py:5: SettingWithCopyWarning: \n",
      "A value is trying to be set on a copy of a slice from a DataFrame.\n",
      "Try using .loc[row_indexer,col_indexer] = value instead\n",
      "\n",
      "See the caveats in the documentation: https://pandas.pydata.org/pandas-docs/stable/user_guide/indexing.html#returning-a-view-versus-a-copy\n",
      "  level2['ParentName'] = level2['ParentId'].apply(lambda x : level1[x])\n"
     ]
    },
    {
     "data": {
      "text/html": [
       "<div>\n",
       "<style scoped>\n",
       "    .dataframe tbody tr th:only-of-type {\n",
       "        vertical-align: middle;\n",
       "    }\n",
       "\n",
       "    .dataframe tbody tr th {\n",
       "        vertical-align: top;\n",
       "    }\n",
       "\n",
       "    .dataframe thead th {\n",
       "        text-align: right;\n",
       "    }\n",
       "</style>\n",
       "<table border=\"1\" class=\"dataframe\">\n",
       "  <thead>\n",
       "    <tr style=\"text-align: right;\">\n",
       "      <th></th>\n",
       "      <th>sum_sq</th>\n",
       "      <th>df</th>\n",
       "      <th>F</th>\n",
       "      <th>PR(&gt;F)</th>\n",
       "    </tr>\n",
       "  </thead>\n",
       "  <tbody>\n",
       "    <tr>\n",
       "      <th>ParentName</th>\n",
       "      <td>167.447665</td>\n",
       "      <td>2.0</td>\n",
       "      <td>10.404655</td>\n",
       "      <td>0.00066</td>\n",
       "    </tr>\n",
       "    <tr>\n",
       "      <th>Residual</th>\n",
       "      <td>177.028871</td>\n",
       "      <td>22.0</td>\n",
       "      <td>NaN</td>\n",
       "      <td>NaN</td>\n",
       "    </tr>\n",
       "  </tbody>\n",
       "</table>\n",
       "</div>"
      ],
      "text/plain": [
       "                sum_sq    df          F   PR(>F)\n",
       "ParentName  167.447665   2.0  10.404655  0.00066\n",
       "Residual    177.028871  22.0        NaN      NaN"
      ]
     },
     "execution_count": 30,
     "metadata": {},
     "output_type": "execute_result"
    }
   ],
   "source": [
    "import statsmodels.api as sm\n",
    "from statsmodels.formula.api import ols\n",
    "\n",
    "level1 = {32 : 'Number', 49 : 'Algebra', 71 : 'Geometry and Measure'}\n",
    "level2['ParentName'] = level2['ParentId'].apply(lambda x : level1[x])\n",
    "model = ols('ConfRatio ~ ParentName', data=level2).fit()\n",
    "aov_table = sm.stats.anova_lm(model, typ=2)\n",
    "aov_table"
   ]
  },
  {
   "cell_type": "code",
   "execution_count": 31,
   "id": "graphic-mapping",
   "metadata": {},
   "outputs": [
    {
     "name": "stdout",
     "output_type": "stream",
     "text": [
      "3.0446999294915305 2.899134217713764 2.7905135790643296\n"
     ]
    }
   ],
   "source": [
    "#### observed residual mean square = mean residual ss\n",
    "orms = 177.028871/22\n",
    "\n",
    "nN = 7\n",
    "nA = 8\n",
    "nGM = 10\n",
    "\n",
    "lsdNA = scipy.stats.t.ppf(q=1-.05/2,df=22)*math.sqrt(orms*(1/nN + 1/nA))\n",
    "lsdNGM = scipy.stats.t.ppf(q=1-.05/2,df=22)*math.sqrt(orms*(1/nN + 1/nGM))\n",
    "lsdAGM = scipy.stats.t.ppf(q=1-.05/2,df=22)*math.sqrt(orms*(1/nA + 1/nGM))\n",
    "\n",
    "print(lsdNA,lsdNGM, lsdAGM)"
   ]
  },
  {
   "cell_type": "code",
   "execution_count": 32,
   "id": "atomic-hospital",
   "metadata": {},
   "outputs": [],
   "source": [
    "# Code for creation of \"ConfidenceCategories\" plot"
   ]
  },
  {
   "cell_type": "code",
   "execution_count": 33,
   "id": "promotional-helping",
   "metadata": {},
   "outputs": [],
   "source": [
    "# Function to be applied to rows of dataframe to fill \"ConfidenceCategory\" column\n",
    "def confidenceCategoriser(IsCorrect, Confidence):\n",
    "    if IsCorrect == 0 and Confidence >= 75:\n",
    "        return \"Overconfident\"\n",
    "    if IsCorrect == 1 and Confidence <= 25:\n",
    "        return \"Underconfident\"\n",
    "    if IsCorrect == 1 and Confidence >=75:\n",
    "        return \"Knowledgeable\"\n",
    "    if IsCorrect == 0 and Confidence <= 25:\n",
    "        return \"Realistic\"\n",
    "    else:\n",
    "        return \"NoInfo\""
   ]
  },
  {
   "cell_type": "code",
   "execution_count": 34,
   "id": "missing-secondary",
   "metadata": {},
   "outputs": [],
   "source": [
    "# Creation of \"ConfidenceCategoryColumn\"\n",
    "mastercopy['ConfidenceCategory'] = mastercopy.apply(lambda row: confidenceCategoriser(row['IsCorrect'], row['Confidence']), axis = 1)\n",
    "# Drop non categorised answers\n",
    "mastercopy = mastercopy.drop(mastercopy[mastercopy[\"ConfidenceCategory\"]==\"NoInfo\"].index)"
   ]
  },
  {
   "cell_type": "code",
   "execution_count": 35,
   "id": "muslim-sussex",
   "metadata": {},
   "outputs": [],
   "source": [
    "# Split data by confidence categories\n",
    "knowledgeable = mastercopy[mastercopy[\"ConfidenceCategory\"] == 'Knowledgeable']\n",
    "realistic = mastercopy[mastercopy[\"ConfidenceCategory\"] == 'Realistic']\n",
    "underconfident = mastercopy[mastercopy[\"ConfidenceCategory\"] == 'Underconfident']\n",
    "overconfident = mastercopy[mastercopy[\"ConfidenceCategory\"] == 'Overconfident']\n",
    "\n",
    "no_knowledgeable_females = knowledgeable[knowledgeable['Gender']==1].shape[0]\n",
    "no_knowledgeable_males = knowledgeable[knowledgeable['Gender']==2].shape[0]\n",
    "\n",
    "no_realistic_females = realistic[realistic['Gender']==1].shape[0]\n",
    "no_realistic_males = realistic[realistic['Gender']==2].shape[0]\n",
    "\n",
    "no_overconfident_females = overconfident[overconfident['Gender']==1].shape[0]\n",
    "no_overconfident_males = overconfident[overconfident['Gender']==2].shape[0]\n",
    "\n",
    "no_underconfident_females = underconfident[underconfident['Gender']==1].shape[0]\n",
    "no_underconfident_males = underconfident[underconfident['Gender']==2].shape[0]"
   ]
  },
  {
   "cell_type": "code",
   "execution_count": 36,
   "id": "automotive-installation",
   "metadata": {},
   "outputs": [],
   "source": [
    "# Preparation of data for multivariate bar plot\n",
    "dataPoints = [['Knowledgeable',no_knowledgeable_males,no_knowledgeable_females],['Overconfident',no_overconfident_males,no_overconfident_females],['Realistic',no_realistic_males,no_realistic_females],['Underconfident',no_underconfident_males,no_underconfident_females]]"
   ]
  },
  {
   "cell_type": "code",
   "execution_count": 37,
   "id": "finite-surname",
   "metadata": {},
   "outputs": [],
   "source": [
    "# Creation of dataframe for multivariate bar plot\n",
    "df = pd.DataFrame(dataPoints, columns = ['ConfidenceCategory', 'Male', 'Female'])\n",
    "df2 = df\n",
    "df2['MalePercent'] = (df['Male'] / df['Male'].sum()) * 100\n",
    "df2['FemalePercent'] = (df['Female'] / df['Female'].sum()) * 100\n",
    "df2 = df2.drop(columns=[\"Male\",\"Female\"])"
   ]
  },
  {
   "cell_type": "code",
   "execution_count": 38,
   "id": "severe-pursuit",
   "metadata": {},
   "outputs": [
    {
     "data": {
      "image/png": "[encoded data removed]",
      "text/plain": [
       "<Figure size 480x360 with 1 Axes>"
      ]
     },
     "metadata": {
      "needs_background": "light"
     },
     "output_type": "display_data"
    }
   ],
   "source": [
    "# Bar plot\n",
    "plt.figure(figsize=(4,3), dpi=120)\n",
    "plt.rcParams.update({'font.size': 10})\n",
    "X = df2[\"ConfidenceCategory\"]\n",
    "X_axis = np.arange(len(X))\n",
    "ax = plt.bar(X_axis - 0.2, df2[\"MalePercent\"], 0.4, label = \"Male\")\n",
    "ax = plt.bar(X_axis + 0.2, df2[\"FemalePercent\"], 0.4, label = \"Female\")\n",
    "plt.xticks(X_axis, X)\n",
    "plt.xlabel(\"Knowledge Groups\")\n",
    "plt.ylabel(\"Answers in Category (%)\")\n",
    "plt.legend()\n",
    "plt.xticks(rotation = 25)\n",
    "plt.title(\"Confidence Groupings by gender\")\n",
    "plt.tight_layout()\n",
    "plt.savefig(\"ConfidenceGroupingsByGender\")\n",
    "plt.show()"
   ]
  },
  {
   "cell_type": "code",
   "execution_count": 39,
   "id": "urban-passage",
   "metadata": {},
   "outputs": [],
   "source": [
    "# Correlation coefficient calculation\n",
    "data = mastercopy[mastercopy['Confidence'] >= 0].groupby(by=\"UserId\").mean()\n",
    "corrCoef1 = data[\"IsCorrect\"]\n",
    "corrCoef2 = data[\"Confidence\"]\n",
    "corrCoefficient = np.corrcoef(corrCoef1, corrCoef2)"
   ]
  },
  {
   "cell_type": "code",
   "execution_count": 40,
   "id": "numerical-lesson",
   "metadata": {},
   "outputs": [
    {
     "name": "stdout",
     "output_type": "stream",
     "text": [
      "0.43153848486388346\n"
     ]
    }
   ],
   "source": [
    "pearsonCoef = corrCoefficient[0][1]\n",
    "print(pearsonCoef)"
   ]
  }
 ],
 "metadata": {
  "kernelspec": {
   "display_name": "Python 3 (ipykernel)",
   "language": "python",
   "name": "python3"
  },
  "language_info": {
   "codemirror_mode": {
    "name": "ipython",
    "version": 3
   },
   "file_extension": ".py",
   "mimetype": "text/x-python",
   "name": "python",
   "nbconvert_exporter": "python",
   "pygments_lexer": "ipython3",
   "version": "3.9.2"
  }
 },
 "nbformat": 4,
 "nbformat_minor": 5
}
