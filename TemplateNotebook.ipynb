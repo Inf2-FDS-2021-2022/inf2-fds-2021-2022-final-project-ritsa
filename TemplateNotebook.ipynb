{
 "cells": [
  {
   "cell_type": "code",
   "execution_count": 1,
   "id": "analyzed-longitude",
   "metadata": {},
   "outputs": [],
   "source": [
    "# this will only work is DataCleaningScript is in the same folder as the notebook you're running this chunk in\n",
    "from DataCleaningScript import cleanData\n",
    "\n",
    "# this will load you in the cleaned data set :) \n",
    "# it will take a couple mins but means once its done it's done\n",
    "master = cleanData()"
   ]
  },
  {
   "cell_type": "code",
   "execution_count": 2,
   "id": "familiar-acquisition",
   "metadata": {},
   "outputs": [],
   "source": [
    "# i'd advise keeping a copy you can keep cloning from incase you make any changes to the master data and want the data to reset\n",
    "# without having to run the cleaning process again\n",
    "mastercopy = master.copy(deep = True)"
   ]
  }
 ],
 "metadata": {
  "kernelspec": {
   "display_name": "Python 3 (ipykernel)",
   "language": "python",
   "name": "python3"
  },
  "language_info": {
   "codemirror_mode": {
    "name": "ipython",
    "version": 3
   },
   "file_extension": ".py",
   "mimetype": "text/x-python",
   "name": "python",
   "nbconvert_exporter": "python",
   "pygments_lexer": "ipython3",
   "version": "3.9.2"
  }
 },
 "nbformat": 4,
 "nbformat_minor": 5
}
